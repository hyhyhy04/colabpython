{
  "nbformat": 4,
  "nbformat_minor": 0,
  "metadata": {
    "colab": {
      "provenance": [],
      "authorship_tag": "ABX9TyM8B4pQi31OH7s1qJauZorq",
      "include_colab_link": true
    },
    "kernelspec": {
      "name": "python3",
      "display_name": "Python 3"
    },
    "language_info": {
      "name": "python"
    }
  },
  "cells": [
    {
      "cell_type": "markdown",
      "metadata": {
        "id": "view-in-github",
        "colab_type": "text"
      },
      "source": [
        "<a href=\"https://colab.research.google.com/github/hyhyhy04/colabpython/blob/main/Untitled21.ipynb\" target=\"_parent\"><img src=\"https://colab.research.google.com/assets/colab-badge.svg\" alt=\"Open In Colab\"/></a>"
      ]
    },
    {
      "cell_type": "code",
      "source": [
        "from google.colab import files\n",
        "uploaded = files.upload()\n"
      ],
      "metadata": {
        "colab": {
          "base_uri": "https://localhost:8080/",
          "height": 103
        },
        "id": "QG37_SPfRY8o",
        "outputId": "cc0f2d0d-efbd-4da6-db7d-55c8ae3ccc65"
      },
      "execution_count": 1,
      "outputs": [
        {
          "output_type": "display_data",
          "data": {
            "text/plain": [
              "<IPython.core.display.HTML object>"
            ],
            "text/html": [
              "\n",
              "     <input type=\"file\" id=\"files-61c2083f-2e00-4f94-abe2-96124aadc27d\" name=\"files[]\" multiple disabled\n",
              "        style=\"border:none\" />\n",
              "     <output id=\"result-61c2083f-2e00-4f94-abe2-96124aadc27d\">\n",
              "      Upload widget is only available when the cell has been executed in the\n",
              "      current browser session. Please rerun this cell to enable.\n",
              "      </output>\n",
              "      <script>// Copyright 2017 Google LLC\n",
              "//\n",
              "// Licensed under the Apache License, Version 2.0 (the \"License\");\n",
              "// you may not use this file except in compliance with the License.\n",
              "// You may obtain a copy of the License at\n",
              "//\n",
              "//      http://www.apache.org/licenses/LICENSE-2.0\n",
              "//\n",
              "// Unless required by applicable law or agreed to in writing, software\n",
              "// distributed under the License is distributed on an \"AS IS\" BASIS,\n",
              "// WITHOUT WARRANTIES OR CONDITIONS OF ANY KIND, either express or implied.\n",
              "// See the License for the specific language governing permissions and\n",
              "// limitations under the License.\n",
              "\n",
              "/**\n",
              " * @fileoverview Helpers for google.colab Python module.\n",
              " */\n",
              "(function(scope) {\n",
              "function span(text, styleAttributes = {}) {\n",
              "  const element = document.createElement('span');\n",
              "  element.textContent = text;\n",
              "  for (const key of Object.keys(styleAttributes)) {\n",
              "    element.style[key] = styleAttributes[key];\n",
              "  }\n",
              "  return element;\n",
              "}\n",
              "\n",
              "// Max number of bytes which will be uploaded at a time.\n",
              "const MAX_PAYLOAD_SIZE = 100 * 1024;\n",
              "\n",
              "function _uploadFiles(inputId, outputId) {\n",
              "  const steps = uploadFilesStep(inputId, outputId);\n",
              "  const outputElement = document.getElementById(outputId);\n",
              "  // Cache steps on the outputElement to make it available for the next call\n",
              "  // to uploadFilesContinue from Python.\n",
              "  outputElement.steps = steps;\n",
              "\n",
              "  return _uploadFilesContinue(outputId);\n",
              "}\n",
              "\n",
              "// This is roughly an async generator (not supported in the browser yet),\n",
              "// where there are multiple asynchronous steps and the Python side is going\n",
              "// to poll for completion of each step.\n",
              "// This uses a Promise to block the python side on completion of each step,\n",
              "// then passes the result of the previous step as the input to the next step.\n",
              "function _uploadFilesContinue(outputId) {\n",
              "  const outputElement = document.getElementById(outputId);\n",
              "  const steps = outputElement.steps;\n",
              "\n",
              "  const next = steps.next(outputElement.lastPromiseValue);\n",
              "  return Promise.resolve(next.value.promise).then((value) => {\n",
              "    // Cache the last promise value to make it available to the next\n",
              "    // step of the generator.\n",
              "    outputElement.lastPromiseValue = value;\n",
              "    return next.value.response;\n",
              "  });\n",
              "}\n",
              "\n",
              "/**\n",
              " * Generator function which is called between each async step of the upload\n",
              " * process.\n",
              " * @param {string} inputId Element ID of the input file picker element.\n",
              " * @param {string} outputId Element ID of the output display.\n",
              " * @return {!Iterable<!Object>} Iterable of next steps.\n",
              " */\n",
              "function* uploadFilesStep(inputId, outputId) {\n",
              "  const inputElement = document.getElementById(inputId);\n",
              "  inputElement.disabled = false;\n",
              "\n",
              "  const outputElement = document.getElementById(outputId);\n",
              "  outputElement.innerHTML = '';\n",
              "\n",
              "  const pickedPromise = new Promise((resolve) => {\n",
              "    inputElement.addEventListener('change', (e) => {\n",
              "      resolve(e.target.files);\n",
              "    });\n",
              "  });\n",
              "\n",
              "  const cancel = document.createElement('button');\n",
              "  inputElement.parentElement.appendChild(cancel);\n",
              "  cancel.textContent = 'Cancel upload';\n",
              "  const cancelPromise = new Promise((resolve) => {\n",
              "    cancel.onclick = () => {\n",
              "      resolve(null);\n",
              "    };\n",
              "  });\n",
              "\n",
              "  // Wait for the user to pick the files.\n",
              "  const files = yield {\n",
              "    promise: Promise.race([pickedPromise, cancelPromise]),\n",
              "    response: {\n",
              "      action: 'starting',\n",
              "    }\n",
              "  };\n",
              "\n",
              "  cancel.remove();\n",
              "\n",
              "  // Disable the input element since further picks are not allowed.\n",
              "  inputElement.disabled = true;\n",
              "\n",
              "  if (!files) {\n",
              "    return {\n",
              "      response: {\n",
              "        action: 'complete',\n",
              "      }\n",
              "    };\n",
              "  }\n",
              "\n",
              "  for (const file of files) {\n",
              "    const li = document.createElement('li');\n",
              "    li.append(span(file.name, {fontWeight: 'bold'}));\n",
              "    li.append(span(\n",
              "        `(${file.type || 'n/a'}) - ${file.size} bytes, ` +\n",
              "        `last modified: ${\n",
              "            file.lastModifiedDate ? file.lastModifiedDate.toLocaleDateString() :\n",
              "                                    'n/a'} - `));\n",
              "    const percent = span('0% done');\n",
              "    li.appendChild(percent);\n",
              "\n",
              "    outputElement.appendChild(li);\n",
              "\n",
              "    const fileDataPromise = new Promise((resolve) => {\n",
              "      const reader = new FileReader();\n",
              "      reader.onload = (e) => {\n",
              "        resolve(e.target.result);\n",
              "      };\n",
              "      reader.readAsArrayBuffer(file);\n",
              "    });\n",
              "    // Wait for the data to be ready.\n",
              "    let fileData = yield {\n",
              "      promise: fileDataPromise,\n",
              "      response: {\n",
              "        action: 'continue',\n",
              "      }\n",
              "    };\n",
              "\n",
              "    // Use a chunked sending to avoid message size limits. See b/62115660.\n",
              "    let position = 0;\n",
              "    do {\n",
              "      const length = Math.min(fileData.byteLength - position, MAX_PAYLOAD_SIZE);\n",
              "      const chunk = new Uint8Array(fileData, position, length);\n",
              "      position += length;\n",
              "\n",
              "      const base64 = btoa(String.fromCharCode.apply(null, chunk));\n",
              "      yield {\n",
              "        response: {\n",
              "          action: 'append',\n",
              "          file: file.name,\n",
              "          data: base64,\n",
              "        },\n",
              "      };\n",
              "\n",
              "      let percentDone = fileData.byteLength === 0 ?\n",
              "          100 :\n",
              "          Math.round((position / fileData.byteLength) * 100);\n",
              "      percent.textContent = `${percentDone}% done`;\n",
              "\n",
              "    } while (position < fileData.byteLength);\n",
              "  }\n",
              "\n",
              "  // All done.\n",
              "  yield {\n",
              "    response: {\n",
              "      action: 'complete',\n",
              "    }\n",
              "  };\n",
              "}\n",
              "\n",
              "scope.google = scope.google || {};\n",
              "scope.google.colab = scope.google.colab || {};\n",
              "scope.google.colab._files = {\n",
              "  _uploadFiles,\n",
              "  _uploadFilesContinue,\n",
              "};\n",
              "})(self);\n",
              "</script> "
            ]
          },
          "metadata": {}
        },
        {
          "output_type": "stream",
          "name": "stdout",
          "text": [
            "Saving culture_participation.csv to culture_participation.csv\n",
            "Saving life_satisfaction.csv to life_satisfaction.csv\n"
          ]
        }
      ]
    },
    {
      "cell_type": "code",
      "source": [
        "print(df_culture.columns)\n",
        "print(df_life.columns)"
      ],
      "metadata": {
        "colab": {
          "base_uri": "https://localhost:8080/"
        },
        "id": "3d137tGpSUVH",
        "outputId": "2cbb6aa7-d24e-4653-a1d4-33f6a4587053"
      },
      "execution_count": 3,
      "outputs": [
        {
          "output_type": "stream",
          "name": "stdout",
          "text": [
            "Index(['행정구역별(1)', '특성별(1)', '특성별(2)', '2011', '2013', '2015', '2017', '2019',\n",
            "       '2021', '2023'],\n",
            "      dtype='object')\n",
            "Index(['행정구역별(1)', '특성별(1)', '특성별(2)', '2011', '2011.1', '2011.2', '2011.3',\n",
            "       '2011.4', '2011.5', '2013', '2013.1', '2013.2', '2013.3', '2013.4',\n",
            "       '2013.5', '2015', '2015.1', '2015.2', '2015.3', '2015.4', '2015.5',\n",
            "       '2017', '2017.1', '2017.2', '2017.3', '2017.4', '2017.5', '2019',\n",
            "       '2019.1', '2019.2', '2019.3', '2019.4', '2019.5', '2021', '2021.1',\n",
            "       '2021.2', '2021.3', '2021.4', '2021.5', '2023', '2023.1', '2023.2',\n",
            "       '2023.3', '2023.4', '2023.5'],\n",
            "      dtype='object')\n"
          ]
        }
      ]
    },
    {
      "cell_type": "code",
      "source": [
        "import pandas as pd\n",
        "\n",
        "# 파일 불러오기\n",
        "df_life = pd.read_csv('life_satisfaction.csv', encoding='cp949')\n",
        "\n",
        "# 1. 필요 없는 컬럼 제거\n",
        "df_life = df_life.drop(columns=['특성별(1)', '특성별(2)'])\n",
        "\n",
        "# 2. 컬럼명을 쉽게 보기 위해 저장\n",
        "columns = df_life.columns.tolist()\n",
        "\n",
        "# 3. 시도 정보 가져오기\n",
        "regions = df_life['행정구역별(1)']\n",
        "\n",
        "# 4. 연도별 만족도합 만들기\n",
        "result = pd.DataFrame()\n",
        "result['시도'] = regions\n",
        "\n",
        "for year in ['2011', '2013', '2015', '2017', '2019', '2021', '2023']:\n",
        "    try:\n",
        "        만족_col = year\n",
        "        매우만족_col = f'{year}.1'\n",
        "        df_life[f'{year}_합'] = df_life[만족_col] + df_life[매우만족_col]\n",
        "        result[year] = df_life[f'{year}_합']\n",
        "    except KeyError:\n",
        "        print(f\"⚠️ {year} 컬럼이 부족해서 계산 생략했어.\")\n",
        "\n",
        "# 5. 깔끔하게 확인\n",
        "print(result.head())\n"
      ],
      "metadata": {
        "colab": {
          "base_uri": "https://localhost:8080/"
        },
        "id": "fRAGRApoc3UZ",
        "outputId": "24502c6b-ea75-4c6e-c921-61422e62bf1c"
      },
      "execution_count": 10,
      "outputs": [
        {
          "output_type": "stream",
          "name": "stdout",
          "text": [
            "         시도      2011       2013       2015      2017       2019      2021  \\\n",
            "0  행정구역별(1)    계매우 만족     계매우 만족     계매우 만족    계매우 만족     계매우 만족    계매우 만족   \n",
            "1        전국  100.05.5  100.010.4  100.010.1  100.06.9  100.014.1  100.09.8   \n",
            "2     서울특별시  100.06.3  100.010.9  100.010.7  100.07.9  100.014.1  100.09.3   \n",
            "3     부산광역시  100.06.4   100.08.9   100.08.0  100.05.2   100.09.9  100.06.8   \n",
            "4     대구광역시  100.03.2   100.07.9   100.08.2  100.03.9  100.011.6  100.09.4   \n",
            "\n",
            "        2023  \n",
            "0     계매우 만족  \n",
            "1  100.011.9  \n",
            "2  100.011.4  \n",
            "3  100.010.2  \n",
            "4  100.011.2  \n"
          ]
        }
      ]
    },
    {
      "cell_type": "code",
      "source": [
        "import pandas as pd\n",
        "\n",
        "# 파일 불러오기\n",
        "df_culture = pd.read_csv('/content/culture_participation.csv', encoding='cp949')\n",
        "df_life = pd.read_csv('/content/life_satisfaction.csv', encoding='cp949')\n",
        "\n",
        "# 컬럼명 정리 (필요한 열만 선택) - 문화예술 관람 데이터\n",
        "df_culture_clean = df_culture[['행정구역별(1)','2011','2013','2015','2017','2019','2021','2023']]\n",
        "df_culture_clean.columns = ['지역', '11관람률', '13관람률', '15관람률', '17관람률', '19관람률',\n",
        "       '21관람률', '23관람률']\n",
        "\n",
        "# 1. 필요 없는 컬럼 제거\n",
        "df_life = df_life.drop(columns=['특성별(1)', '특성별(2)'])\n",
        "\n",
        "# 2. '매우만족' + '만족' 퍼센트 더해서 '만족도합' 컬럼 생성\n",
        "df_life['만족도합'] = df_life['2023'] + df_life['2023.1']\n",
        "\n",
        "# 3. 시도별과 만족도합만 추출\n",
        "df_life_final = df_life[['행정구역별(1)', '만족도합']].rename(columns={'행정구역별(1)': '시도'})\n",
        "\n"
      ],
      "metadata": {
        "id": "kXYUa3l3RlSO"
      },
      "execution_count": 9,
      "outputs": []
    },
    {
      "cell_type": "code",
      "execution_count": null,
      "metadata": {
        "id": "4q78dPOMRTzx"
      },
      "outputs": [],
      "source": [
        "# 1. 필요 없는 컬럼 제거\n",
        "df_life = df_life.drop(columns=['특성별(1)', '특성별(2)'])\n",
        "\n",
        "# 2. '매우만족' + '만족' 퍼센트 더해서 '만족도합' 컬럼 생성\n",
        "df_life['만족도합'] = df_life['2023'] + df_life['2023.1']\n",
        "\n",
        "# 3. 시도별과 만족도합만 추출\n",
        "df_life_final = df_life[['행정구역별(1)', '만족도합']].rename(columns={'행정구역별(1)': '시도'})\n"
      ]
    }
  ]
}